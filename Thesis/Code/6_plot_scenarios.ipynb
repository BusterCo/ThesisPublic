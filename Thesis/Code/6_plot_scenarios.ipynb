{
 "cells": [
  {
   "cell_type": "code",
   "execution_count": null,
   "metadata": {},
   "outputs": [],
   "source": [
    "from custom.GeoSpatialEncoder import GeoSpatialEncoder\n",
    "from custom.PC_Class import PC\n",
    "from custom.Pipeline import Pipeline\n",
    "from sklearn.preprocessing import OneHotEncoder, MinMaxScaler\n",
    "import pandas as pd\n",
    "import numpy as np\n",
    "from tqdm import tqdm\n",
    "import warnings\n",
    "import os\n",
    "import xgboost as xgb\n",
    "from custom.DataCreator import InstanceFileWriter, Scenario\n",
    "warnings.filterwarnings(\"ignore\", message=\"X does not have valid feature names, but KMeans was fitted with feature names\")\n",
    "\n",
    "def load_data(file_path):\n",
    "    datetime_cols = ['CREATIONDATETIME', 'LAAD_DATETIME_VAN', 'LAAD_DATETIME_TOT', 'LOS_DATETIME_VAN', 'LOS_DATETIME_TOT', '15CREATIONDATETIME']\n",
    "    total_rows = sum(1 for row in open(file_path, 'r', encoding='utf-8'))\n",
    "    chunk_size = 10000  \n",
    "    tqdm.pandas(desc=\"Reading CSV\")\n",
    "    chunks = pd.read_csv(file_path, chunksize=chunk_size, iterator=True, index_col = 0, parse_dates=datetime_cols)\n",
    "\n",
    "    df_orders = pd.concat(tqdm(chunks, total=total_rows//chunk_size))\n",
    "    print(\"Lenght of input data:\", str(len(df_orders)))\n",
    "    return df_orders\n",
    "\n",
    "PC_obj = PC()\n",
    "GSE = GeoSpatialEncoder(PC_obj)"
   ]
  },
  {
   "cell_type": "code",
   "execution_count": null,
   "metadata": {},
   "outputs": [],
   "source": [
    "path = #path to scenarios here\n",
    "files = os.listdir(path)\n",
    "files = [files.replace(\".csv\", \"\") for files in files]\n",
    "# Function to check if any number in the list is >= 5000000000\n",
    "\n",
    "def check_simulated(shipment_list):\n",
    "    shipment_list = shipment_list.replace(\"[\",\"\").replace(\"]\",\"\").replace(\" \",\"\").split(\",\")\n",
    "    return 1 if any(int(num) >= 5000000000 for num in shipment_list) else 0\n",
    "\n",
    "# Apply the function to the SHIPMENTNUMBER column\n",
    "\n",
    "\n",
    "instance_name = # random instance name here\n",
    "scenario = instance_name.split(\"_\")[3]\n",
    "print(\"Instance name:\", instance_name)\n",
    "df_scenario = load_data(path + \"//\" + instance_name + \".csv\")\n",
    "df_scenario['SIMULATED'] = df_scenario['SHIPMENTNUMBER'].apply(check_simulated)\n",
    "GSE.plot_scenario_coordinates(df_scenario, title=\"Scenario without simulated orders\")\n",
    "\n",
    "for instance_name in files:\n",
    "    if \"RANDOMDATE\" in instance_name: # REPLACE WITH A SCENARIO\n",
    "        scenario = instance_name.split(\"_\")[3]\n",
    "        if int(scenario) < 3 and int(scenario) > 0:\n",
    "            print(\"Instance name:\", instance_name)\n",
    "            df_scenario = load_data(path + \"//\" + instance_name + \".csv\")\n",
    "            df_scenario['SIMULATED'] = df_scenario['SHIPMENTNUMBER'].apply(check_simulated)\n",
    "            GSE.plot_scenario_coordinates(df_scenario, title=\"Scenario with simulated orders: \" + scenario)\n",
    "\n",
    "instance_name = \"INSTANCENAME_HERE\"\n",
    "scenario = instance_name.split(\"_\")[3]\n",
    "print(\"Instance name:\", instance_name)\n",
    "df_scenario = load_data(path + \"//\" + instance_name + \".csv\")\n",
    "df_scenario['SIMULATED'] = df_scenario['SHIPMENTNUMBER'].apply(check_simulated)\n",
    "GSE.plot_scenario_coordinates(df_scenario, title=\"End of day situation without simulated orders\")"
   ]
  },
  {
   "cell_type": "code",
   "execution_count": null,
   "metadata": {},
   "outputs": [],
   "source": [
    "df_filtered = df_scenario[(df_scenario['AFHCODE'].isin(['d'])) \n",
    "                                         #& (df_input['STATUS'] != 990) \n",
    "                                         & (df_scenario['LOSLAND'].isin(['NL', 'BE', 'LU']))].copy()\n",
    "df_filtered[\"LOSLAND\"] = df_filtered[\"LOSLAND\"].astype(str).copy()  # Ensure 'LOSLAND' column is of string type\n",
    "df_filtered[\"LOSPC\"] = df_filtered[\"LOSPC\"].astype(str).copy()  # Ensure 'LOSPC' column is of string type\n",
    "df_filtered[\"LOS_CPC\"] = df_filtered.apply(lambda row: PC_obj.return_CPC(row[\"LOSLAND\"], row[\"LOSPC\"]), axis=1)\n",
    "\n",
    "df_filtered = df_filtered[df_filtered[\"LOS_CPC\"] != 0]\n",
    "df_filtered[\"COORDINATES\"] = df_filtered.apply(lambda row: PC_obj.return_CPC_coordinates(row[\"LOS_CPC\"]), axis=1)\n",
    "df_filtered[[\"LOS_LAT\", \"LOS_LON\"]] = pd.DataFrame(df_filtered[\"COORDINATES\"].tolist(), index=df_filtered.index)\n",
    "df_filtered"
   ]
  }
 ],
 "metadata": {
  "kernelspec": {
   "display_name": "solver-env",
   "language": "python",
   "name": "python3"
  },
  "language_info": {
   "codemirror_mode": {
    "name": "ipython",
    "version": 3
   },
   "file_extension": ".py",
   "mimetype": "text/x-python",
   "name": "python",
   "nbconvert_exporter": "python",
   "pygments_lexer": "ipython3",
   "version": "3.11.9"
  }
 },
 "nbformat": 4,
 "nbformat_minor": 2
}
