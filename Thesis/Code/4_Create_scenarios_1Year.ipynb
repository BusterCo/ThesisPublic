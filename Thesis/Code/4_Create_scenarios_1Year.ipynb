{
 "cells": [
  {
   "cell_type": "code",
   "execution_count": null,
   "metadata": {},
   "outputs": [],
   "source": [
    "from custom.GeoSpatialEncoder import GeoSpatialEncoder\n",
    "from custom.PC_Class import PC\n",
    "import importlib\n",
    "import pandas as pd\n",
    "import numpy as np\n",
    "from tqdm import tqdm\n",
    "import warnings\n",
    "import os\n",
    "datetime_cols = ['CREATIONDATETIME', 'LAAD_DATETIME_VAN', 'LAAD_DATETIME_TOT', 'LOS_DATETIME_VAN', 'LOS_DATETIME_TOT', '15CREATIONDATETIME']\n",
    "direct = os.getcwd()\n",
    "file_path = direct + \"////data////vos_input_data////MultiHubData3_cleaned.csv\" \n",
    "total_rows = sum(1 for row in open(file_path, 'r', encoding='utf-8'))\n",
    "chunk_size = 10000  \n",
    "tqdm.pandas(desc=\"Reading CSV\")\n",
    "chunks = pd.read_csv(file_path, chunksize=chunk_size, iterator=True, index_col = 0, parse_dates=datetime_cols)\n",
    "\n",
    "df_orders = pd.concat(tqdm(chunks, total=total_rows//chunk_size))\n",
    "\n",
    "# Convert the 'LOS_DATETIME_VAN' column to datetime format\n",
    "for column in datetime_cols:\n",
    "    print(f\"column: {column}\")\n",
    "    df_orders[column] = pd.to_datetime(df_orders[column], errors='coerce')\n",
    "\n",
    "print(\"Lenght of input data:\", str(len(df_orders)))\n",
    "warnings.filterwarnings(\"ignore\", category=FutureWarning, module=\"seaborn\")"
   ]
  },
  {
   "cell_type": "code",
   "execution_count": 59,
   "metadata": {},
   "outputs": [],
   "source": [
    "def write_to_csv(df, file_name):\n",
    "    path = # write path here\n",
    "    \n",
    "    file_name = path + file_name\n",
    "    df.to_csv(file_name)"
   ]
  },
  {
   "cell_type": "code",
   "execution_count": 60,
   "metadata": {},
   "outputs": [],
   "source": [
    "# list of all working days in 2023 in format YYYY-MM-DD strings\n",
    "dates = pd.date_range(start='2023-01-01', end='2023-12-30', freq='B') # business days\n",
    "datess = [str(date.date()) for date in dates]"
   ]
  },
  {
   "cell_type": "code",
   "execution_count": null,
   "metadata": {},
   "outputs": [],
   "source": [
    "names = []\n",
    "for date in datess:\n",
    "        file_name = date + \".csv\"\n",
    "        # select only rows where delivery day is the date\n",
    "        # Select only rows where delivery day is the specified date\n",
    "        df_pre = df_orders[df_orders['LOS_DATETIME_VAN'].dt.date == pd.Timestamp(date).date()]\n",
    "        df_pre_d = df_pre[\n",
    "            (df_pre[\"AFHCODE\"] == \"d\") & \n",
    "            (df_pre[\"LOS_CPC\"] != \"0\") & \n",
    "            (df_pre[\"LAAD_CPC\"] != \"0\") & \n",
    "            (df_pre[\"LOSRIT\"] != \"0\") & \n",
    "            (df_pre[\"PALLETPLAATSEN\"] < 32)\n",
    "        ]\n",
    "        columns_to_keep = [\n",
    "            \"SHIPMENTNUMBER\", \"STATUS\", \"CREATIONDATETIME\", \"AFHCODE\", \"OPDRACHTGEVERID\", \"OPDRACHTGEVERNAAM\",\n",
    "            \"LAADZOEK\", \"LAADADRES\", \"LAADPLAATS\", \"LAADPC\", \"LAADLAND\", \"LAAD_DATETIME_VAN\", \"LAAD_DATETIME_TOT\",\n",
    "            \"LAADPLANK\", \"LOSZOEK\", \"LOSADRES\", \"LOSPLAATS\", \"LOSPC\", \"LOSLAND\", \"LOS_DATETIME_VAN\", \"LOS_DATETIME_TOT\",\n",
    "            \"LOSPLANK\", \"COLLIAANTAL\", \"COLLICODE\", \"PALLETPLAATSEN\", \"LAADRIT\", \"LOSRIT\", \"HAS_PICKUP_TRIP\", \n",
    "            \"HAS_DELIVERY_TRIP\", \"15CREATIONDATETIME\", \"LAAD_CPC\", \"LOS_CPC\"\n",
    "        ]\n",
    "        group_by_columns = ['LAAD_CPC', 'OPDRACHTGEVERID', 'LOS_CPC']\n",
    "        agg_dict = {col: 'last' for col in columns_to_keep if col not in group_by_columns and col != 'PALLETPLAATSEN' and col != 'SHIPMENTNUMBER'}\n",
    "        agg_dict.update({\n",
    "            'PALLETPLAATSEN': 'sum',\n",
    "            'SHIPMENTNUMBER': lambda x: list(x),\n",
    "            'COUNTER': 'count'  # Add a count for the number of orders\n",
    "        })\n",
    "        df_pre_d[\"COUNTER\"] = df_pre_d[\"SHIPMENTNUMBER\"]\n",
    "        df_grouped = df_pre_d.groupby(group_by_columns).agg(agg_dict).reset_index()\n",
    "        df_grouped.rename(columns={'COUNTER': 'ORDER_COUNT'}, inplace=True)\n",
    "        df_grouped = df_grouped[df_grouped[\"PALLETPLAATSEN\"] < 32]\n",
    "        write_to_csv(df_grouped, file_name)\n",
    "        names.append(file_name)\n"
   ]
  }
 ],
 "metadata": {
  "kernelspec": {
   "display_name": "solver-env",
   "language": "python",
   "name": "python3"
  },
  "language_info": {
   "codemirror_mode": {
    "name": "ipython",
    "version": 3
   },
   "file_extension": ".py",
   "mimetype": "text/x-python",
   "name": "python",
   "nbconvert_exporter": "python",
   "pygments_lexer": "ipython3",
   "version": "3.11.9"
  }
 },
 "nbformat": 4,
 "nbformat_minor": 2
}
